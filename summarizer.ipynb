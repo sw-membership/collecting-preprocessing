{
 "cells": [
  {
   "cell_type": "markdown",
   "metadata": {},
   "source": [
    "## sumy를 활용한 요약\n",
    "sumy를 활용해 구글 뉴스를 요약했습니다. "
   ]
  },
  {
   "cell_type": "code",
   "execution_count": 7,
   "metadata": {
    "lines_to_next_cell": 0,
    "scrolled": true
   },
   "outputs": [
    {
     "name": "stdout",
     "output_type": "stream",
     "text": [
      "Samsung is considering buying NXP Semiconductors as its biggest acquisition ever.\n",
      "Samsung semiconductor division is currently one of the best in the business with some amazing products like Exynos processors.\n",
      "Now, it seems that Samsung wants to acquire a dutch semiconductor manufacturer to expand its reach.\n",
      "According to Barron’s (via SamMobile ) the NXP Semiconductors is the same company that Samsung wants to acquire.\n",
      "The NXP has a $55 billion market cap, so it wouldn’t be an easy trade for Samsung.\n",
      "However, having $114 billion in cash will increase Samsung’s chance for this acquisition.\n",
      "Samsung Electronics is a leading manufacturer in the semiconductor industry, and acquiring a new semiconductor business may not seem reasonable.\n",
      "But paying piles of money for NXP Semiconductors has a specific reason.\n",
      "NXP Semiconductors is one of the top manufacturers in the automotive semiconductor market.\n",
      "So acquiring it will allow Samsung to establish its position in the automotive industry.\n",
      "Continental AG, a German automotive parts manufacturer, currently accounts for 10% of NXP’s revenue.\n",
      "Dates back to February, Samsung’s CFO Choi Yoon-ho revealed some of the company’s plans for entering the automotive semiconductor industry and acquiring a business in this field.\n",
      "However, the deal is not finalized yet and the two sides must discuss the details of the transaction.\n",
      "Samsung is usually very conservative when it comes to buying new businesses.\n",
      "The biggest acquisition of the Korean OEM was in 2016 when they paid $8 billion for Harman International, an American audio electronics company.\n",
      "The NXP Semiconductors is currently worth $55 billion and it’s unlikely that Samsung would pay all this money in cash.\n",
      "There isn’t any more information about the deal yet, but Samsung is serious about the acquisition.\n",
      "Moreover, Samsung seems to be obsessed with the automotive semiconductor market, and they’re willing to close the deal as soon as possible.\n",
      "Texas Instruments and Microchip Technologies are other targets for Samsung, but NXP has a better chance of signing the deal with the Korean company.\n",
      "The semiconductor industry has seen many big deals in recent years, including Nvidia’s $40 billion deal with ARM and AMD’s offer for buying Xilinx at $35 billion.\n",
      "As vehicles become more integrated with technology, the market size of the automotive semiconductor industry is constantly rising.\n",
      "Acquiring NXP Semiconductors will be a high-yield deal for Samsung.\n",
      "Moreover, it allows the Korean company to play an active role in the future of automotive technology.\n"
     ]
    }
   ],
   "source": [
    "from __future__ import absolute_import\n",
    "from __future__ import division, print_function, unicode_literals\n",
    "\n",
    "from sumy.parsers.html import HtmlParser\n",
    "from sumy.parsers.plaintext import PlaintextParser\n",
    "from sumy.nlp.tokenizers import Tokenizer\n",
    "from sumy.summarizers.lsa import LsaSummarizer as Summarizer\n",
    "from sumy.nlp.stemmers import Stemmer\n",
    "from sumy.utils import get_stop_words\n",
    "\n",
    "LANGUAGE = \"english\"\n",
    "SENTENCES_COUNT = 30\n",
    "\n",
    "\n",
    "if __name__ == \"__main__\":\n",
    "    # 1. 텍스트 요약\n",
    "    #parser = PlaintextParser.from_file(\"리포트에서 추출한 텍스트 파일\", Tokenizer(LANGUAGE))\n",
    "    \n",
    "    # 2. url 요약\n",
    "    url = \"https://www.androidheadlines.com/2021/04/samsung-may-acquire-this-semiconductor-company-valued-at-55-billion.html\"\n",
    "    parser = HtmlParser.from_url(url, Tokenizer(LANGUAGE))\n",
    "    \n",
    "    \n",
    "    stemmer = Stemmer(LANGUAGE)\n",
    "    summarizer = Summarizer(stemmer)\n",
    "    summarizer.stop_words = get_stop_words(LANGUAGE)\n",
    "\n",
    "    for sentence in summarizer(parser.document, SENTENCES_COUNT):\n",
    "        print(sentence)"
   ]
  },
  {
   "cell_type": "code",
   "execution_count": null,
   "metadata": {
    "lines_to_next_cell": 2
   },
   "outputs": [],
   "source": []
  }
 ],
 "metadata": {
  "jupytext": {
   "encoding": "# -*- coding: utf-8 -*-",
   "formats": "ipynb,py:light"
  },
  "kernelspec": {
   "display_name": "ekonlpy",
   "language": "python",
   "name": "ekonlpy_env"
  },
  "language_info": {
   "codemirror_mode": {
    "name": "ipython",
    "version": 3
   },
   "file_extension": ".py",
   "mimetype": "text/x-python",
   "name": "python",
   "nbconvert_exporter": "python",
   "pygments_lexer": "ipython3",
   "version": "3.7.11"
  }
 },
 "nbformat": 4,
 "nbformat_minor": 4
}
