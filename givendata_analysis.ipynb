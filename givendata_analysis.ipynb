{
 "cells": [
  {
   "cell_type": "code",
   "execution_count": 1,
   "metadata": {},
   "outputs": [],
   "source": [
    "import csv\n",
    " \n",
    "f = open('미래에셋증권_공모전데이터.csv', 'r', encoding='utf-8')\n",
    "lines = csv.reader(f)\n",
    "\n",
    "n = 0\n",
    "\n",
    "#아래에서 선별할 variable들을 모을 list\n",
    "list_all = []\n",
    "\n",
    "for line in lines:\n",
    "    \n",
    "    #1열을 뽑아내서 각 행들의 observation을 row_name이란 리스트로 저장\n",
    "    if(n==0):       \n",
    "        row_name = line\n",
    "        buy_hold_percent = [row_name.index('Buy&Hold비중_202105'),row_name.index('Buy&Hold비중_202104'),\n",
    "                            row_name.index('Buy&Hold비중_202103'),row_name.index('Buy&Hold비중_202102'),\n",
    "                            row_name.index('Buy&Hold비중_202101'),row_name.index('Buy&Hold비중_202012'),\n",
    "                            row_name.index('Buy&Hold비중_202011'),row_name.index('Buy&Hold비중_202010'),\n",
    "                            row_name.index('Buy&Hold비중_202009'),row_name.index('Buy&Hold비중_202008'), \n",
    "                            row_name.index('Buy&Hold비중_202007'),row_name.index('Buy&Hold비중_202006')]\n",
    "    n +=1   \n",
    "    \n",
    "    #20대와 30대 연령만 선별\n",
    "    if( (line[1].find('20') != -1) or (line[1].find('30') != -1) ):\n",
    "        #buy&hold비중이 과반수를 넘기는 사람만 선별\n",
    "        for num in buy_hold_percent :\n",
    "            num = int(num)            \n",
    "            if(int(float(line[num]) > 50)):\n",
    "                list_all.append(line)    \n",
    "    \n",
    "f.close()    "
   ]
  },
  {
   "cell_type": "code",
   "execution_count": 2,
   "metadata": {},
   "outputs": [
    {
     "data": {
      "text/plain": [
       "106842"
      ]
     },
     "execution_count": 2,
     "metadata": {},
     "output_type": "execute_result"
    }
   ],
   "source": [
    "#저희의 분석 대상인 \"20, 30대면서 buy&hold비중이 과반을 넘기는 고객\"이 약 10만명임을 알아냈습니다. \n",
    "len(list_all)"
   ]
  },
  {
   "cell_type": "code",
   "execution_count": 3,
   "metadata": {},
   "outputs": [
    {
     "data": {
      "text/plain": [
       "[33, 91, 149, 207, 265, 323, 381, 439, 497, 555, 613, 671]"
      ]
     },
     "execution_count": 3,
     "metadata": {},
     "output_type": "execute_result"
    }
   ],
   "source": [
    "#20년 7월부터 21년 5월까지 '주식보유1위종목의 column값'\n",
    "hold_rank1 = [row_name.index('주식보유1위종목_202105'),row_name.index('주식보유1위종목_202104'),\n",
    "              row_name.index('주식보유1위종목_202103'),row_name.index('주식보유1위종목_202102'),\n",
    "              row_name.index('주식보유1위종목_202101'),row_name.index('주식보유1위종목_202012'),\n",
    "              row_name.index('주식보유1위종목_202011'),row_name.index('주식보유1위종목_202010'),\n",
    "              row_name.index('주식보유1위종목_202009'),row_name.index('주식보유1위종목_202008'),\n",
    "              row_name.index('주식보유1위종목_202007'),row_name.index('주식보유1위종목_202006')]\n",
    "\n",
    "hold_rank1"
   ]
  },
  {
   "cell_type": "code",
   "execution_count": 4,
   "metadata": {},
   "outputs": [
    {
     "data": {
      "text/plain": [
       "[33,\n",
       " 34,\n",
       " 35,\n",
       " 91,\n",
       " 92,\n",
       " 93,\n",
       " 149,\n",
       " 150,\n",
       " 151,\n",
       " 207,\n",
       " 208,\n",
       " 209,\n",
       " 265,\n",
       " 266,\n",
       " 267,\n",
       " 323,\n",
       " 324,\n",
       " 325,\n",
       " 381,\n",
       " 382,\n",
       " 383,\n",
       " 439,\n",
       " 440,\n",
       " 441,\n",
       " 497,\n",
       " 498,\n",
       " 499,\n",
       " 555,\n",
       " 556,\n",
       " 557,\n",
       " 613,\n",
       " 614,\n",
       " 615,\n",
       " 671,\n",
       " 672,\n",
       " 673]"
      ]
     },
     "execution_count": 4,
     "metadata": {},
     "output_type": "execute_result"
    }
   ],
   "source": [
    "#2020년 7월부터 2021년 5월까지 '주식보유1,2,3위종목의 column값' \n",
    "#주식보유1위종목의 column값에 각각 1과 2를 더하면 주식보유 2위, 3위 종목도 알 수 있다.)\n",
    "\n",
    "hold_rank_123 = []\n",
    "\n",
    "for i in hold_rank1 :\n",
    "    hold_rank_123.append(i)\n",
    "    hold_rank_123.append(i+1)\n",
    "    hold_rank_123.append(i+2)\n",
    "\n",
    "#아래 출력값이 각 사용자들에게서 주식보유 1,2,3위 종목을 가져올 column값입니다. \n",
    "hold_rank_123"
   ]
  },
  {
   "cell_type": "code",
   "execution_count": 5,
   "metadata": {},
   "outputs": [],
   "source": [
    "##20년 8월부터 21년 5월까지 '주식보유1,2,3위'를 기록한 종목(key)와 보유금액(value)을 총합한 dictionary\n",
    "stock_hold_total = {}"
   ]
  },
  {
   "cell_type": "code",
   "execution_count": 6,
   "metadata": {},
   "outputs": [],
   "source": [
    "for list in list_all : \n",
    "    for index in hold_rank_123 :        \n",
    "        name = str(list[index])\n",
    "        #종목 별 보유금액을 계속 더해나갑니다.\n",
    "        stock_hold_total[name] = stock_hold_total.get(name, 0) + int(float(list[index+3]))\n",
    "        \n",
    "#주식보유 1,2,3위 종목이 '0'인 경우 삭제\n",
    "del stock_hold_total['0']"
   ]
  },
  {
   "cell_type": "code",
   "execution_count": 7,
   "metadata": {},
   "outputs": [
    {
     "data": {
      "text/plain": [
       "2311"
      ]
     },
     "execution_count": 7,
     "metadata": {},
     "output_type": "execute_result"
    }
   ],
   "source": [
    "#20년 8월부터 21년 5월까지의 '주식보유1,2,3위'에 언급된 종목의 수\n",
    "len(stock_hold_total.keys())"
   ]
  },
  {
   "cell_type": "code",
   "execution_count": 8,
   "metadata": {},
   "outputs": [
    {
     "data": {
      "text/plain": [
       "[('A005930', 1016406935100),\n",
       " ('A035720', 241542637800),\n",
       " ('A068270', 227763841500),\n",
       " ('A005935', 213078400400),\n",
       " ('A030200', 194141226900),\n",
       " ('A005380', 108014229500),\n",
       " ('A035420', 102882467100),\n",
       " ('A015760', 86168925900),\n",
       " ('A003490', 75141614800),\n",
       " ('A034220', 71986907400),\n",
       " ('A051910', 69131282000),\n",
       " ('A000660', 66594439000),\n",
       " ('A006800', 62620937600),\n",
       " ('A005490', 61518338200),\n",
       " ('A091990', 58000688900),\n",
       " ('A011200', 52751617500),\n",
       " ('A066570', 52385687800),\n",
       " ('A215600', 47369587700),\n",
       " ('A006400', 47085366100),\n",
       " ('A004020', 45027317100),\n",
       " ('A047810', 42254533600),\n",
       " ('A028260', 40257433100),\n",
       " ('A042660', 39978022500),\n",
       " ('A028300', 39828825400),\n",
       " ('A010140', 39248891800),\n",
       " ('A011170', 34041824600),\n",
       " ('A361610', 33502987000),\n",
       " ('A000270', 33210734000),\n",
       " ('A090430', 33166260000),\n",
       " ('A028050', 33087300000),\n",
       " ('A207940', 31465949900),\n",
       " ('A000720', 30383589800),\n",
       " ('A017670', 30278538400),\n",
       " ('A302440', 28720168400),\n",
       " ('A00680K', 28175178800),\n",
       " ('A105560', 27952103900),\n",
       " ('A055550', 27459344000),\n",
       " ('A079160', 27302208800),\n",
       " ('A020560', 25901516500),\n",
       " ('A096770', 25850292600),\n",
       " ('A010060', 25598679800),\n",
       " ('A033780', 25378683400),\n",
       " ('A015750', 23821097900),\n",
       " ('A035250', 23816886900),\n",
       " ('A033180', 23281272000),\n",
       " ('A008770', 22576905300),\n",
       " ('A016360', 22450086000),\n",
       " ('A009540', 22073453000),\n",
       " ('A085620', 21874020000),\n",
       " ('A086280', 21600777000),\n",
       " ('A084990', 21063438200),\n",
       " ('A012330', 20982028300),\n",
       " ('A067630', 20460659000),\n",
       " ('A251270', 20343969100),\n",
       " ('A000060', 19875181900),\n",
       " ('A068760', 19312390800),\n",
       " ('A253450', 19207532000),\n",
       " ('A064350', 19197445000),\n",
       " ('A009150', 19016062900),\n",
       " ('A042670', 18989115000),\n",
       " ('A004370', 18932723000),\n",
       " ('A035080', 18509342500),\n",
       " ('A003060', 18464237900),\n",
       " ('A001740', 18075008000),\n",
       " ('A099220', 18040478000),\n",
       " ('A005830', 18029230000),\n",
       " ('A010950', 18024127800),\n",
       " ('A196170', 17827714000),\n",
       " ('A007070', 17650148000),\n",
       " ('A018260', 17339167000),\n",
       " ('A034020', 17218777100),\n",

       " ('A013000', 684350000),\n",
       " ...]"
      ]
     },
     "execution_count": 8,
     "metadata": {},
     "output_type": "execute_result"
    }
   ],
   "source": [
    "sorted_stock_hold_total = sorted(stock_hold_total.items(),key=(lambda x:x[1]), reverse =True)\n",
    "sorted_stock_hold_total"
   ]
  },
  {
   "cell_type": "code",
   "execution_count": 9,
   "metadata": {},
   "outputs": [],
   "source": [
    "## 시각화"
   ]
  },
  {
   "cell_type": "code",
   "execution_count": 29,
   "metadata": {},
   "outputs": [
    {
     "data": {
      "image/png": "[encoded data removed]",
      "text/plain": [
       "<Figure size 720x720 with 1 Axes>"
      ]
     },
     "metadata": {},
     "output_type": "display_data"
    }
   ],
   "source": [
    "import matplotlib.pyplot as plt\n",
    "from matplotlib import font_manager, rc\n",
    "import numpy as np\n",
    "\n",
    "ratio = []\n",
    "labels = []\n",
    "\n",
    "n = -1\n",
    "ratio_sum = 0\n",
    "for i in sorted_stock_hold_total :\n",
    "    n += 1\n",
    "    if(n<7):\n",
    "        labels.append(i[0])\n",
    "        ratio.append(i[1])\n",
    "    else : \n",
    "        ratio_sum += i[1]\n",
    "        \n",
    "labels.append('나머지')\n",
    "ratio.append(ratio_sum)        \n",
    "\n",
    "labels[0] = '삼성전자'\n",
    "labels[1] = '카카오'\n",
    "labels[2] = '셀트리온'\n",
    "labels[3] = '삼성전자우'\n",
    "labels[4] = ' KT'\n",
    "labels[5] = \" NAVER\"\n",
    "labels[6] = '한국전력    '\n",
    "\n",
    "#삼성전자우를 삼성전자에 포함시키기 \n",
    "del labels[3]\n",
    "ratio[0] += ratio[3]\n",
    "del ratio[3]\n",
    "\n",
    "\n",
    "fig = plt.figure(figsize=(10,10)) \n",
    "fig.set_facecolor('white') \n",
    "ax = fig.add_subplot() \n",
    "\n",
    "explode = [0.05, 0.02, 0, 0, 0, 0, 0]\n",
    "\n",
    "#한국어 폰트\n",
    "font_path = \"C:/Windows/Fonts/NGULIM.TTF\"\n",
    "font = font_manager.FontProperties(fname=font_path).get_name()\n",
    "rc('font', family=font)\n",
    "\n",
    "#pie chart에 parameter입력\n",
    "pie = ax.pie(ratio, explode = explode, labels = labels,  textprops={'fontsize': 15}) \n",
    "\n",
    "#아래 코드는 비율이 겹치지 않고 가독성 있게 합니다.\n",
    "total = np.sum(ratio) \n",
    "threshold = 5 \n",
    "sum_pct = 0 \n",
    " \n",
    "bbox_props = dict(boxstyle='square',fc='w',ec='w',alpha=0) \n",
    " \n",
    "config = dict(arrowprops=dict(arrowstyle='-'),bbox=bbox_props,va='center')\n",
    " \n",
    "for i,l in enumerate(labels):\n",
    "    ang1, ang2 = ax.patches[i].theta1, ax.patches[i].theta2 \n",
    "    center, r = ax.patches[i].center, ax.patches[i].r \n",
    "    \n",
    "    if i < len(labels) - 1:\n",
    "        sum_pct += float(f'{ratio[i]/total*100:.2f}')\n",
    "        text = f'{ratio[i]/total*100:.2f}%'\n",
    "    else: \n",
    "        text = f'{100-sum_pct:.2f}%'\n",
    "    \n",
    "    if ratio[i]/total*100 < threshold:\n",
    "        ang = (ang1+ang2)/2 \n",
    "        x = np.cos(np.deg2rad(ang)) \n",
    "        y = np.sin(np.deg2rad(ang))\n",
    "        \n",
    "        horizontalalignment = {-1: \"right\", 1: \"left\"}[int(np.sign(x))]\n",
    "        connectionstyle = \"angle,angleA=0,angleB={}\".format(ang) \n",
    "        config[\"arrowprops\"].update({\"connectionstyle\": connectionstyle}) \n",
    "        ax.annotate(text, xy=(x, y), xytext=(1.5*x, 1.2*y),\n",
    "                    horizontalalignment=horizontalalignment, **config)\n",
    "    else:\n",
    "        x = (r/2)*np.cos(np.pi/180*((ang1+ang2)/2)) + center[0] \n",
    "        y = (r/2)*np.sin(np.pi/180*((ang1+ang2)/2)) + center[1] \n",
    "        ax.text(x,y,text,ha='center',va='center',fontsize=12)\n",
    "\n",
    "# 최종적으로 파이차트 구현\n",
    "plt.legend(loc = 'center left',fontsize ='15')\n",
    "plt.title('<buy&hold 위주의 20,30대 주식보유금액>', fontsize ='20')\n",
    "plt.show()\n",
    "\n"
   ]
  },
  {
   "cell_type": "code",
   "execution_count": null,
   "metadata": {},
   "outputs": [],
   "source": []
  }
 ],
 "metadata": {
  "kernelspec": {
   "display_name": "Python 3",
   "language": "python",
   "name": "python3"
  },
  "language_info": {
   "codemirror_mode": {
    "name": "ipython",
    "version": 3
   },
   "file_extension": ".py",
   "mimetype": "text/x-python",
   "name": "python",
   "nbconvert_exporter": "python",
   "pygments_lexer": "ipython3",
   "version": "3.8.5"
  }
 },
 "nbformat": 4,
 "nbformat_minor": 4
}
