{
 "cells": [
  {
   "cell_type": "code",
   "execution_count": 3,
   "metadata": {
    "colab": {
     "base_uri": "https://localhost:8080/"
    },
    "id": "V_7mdvLn6Zes",
    "outputId": "670aa9df-e953-49f6-d34a-f45253af1e7d"
   },
   "outputs": [
    {
     "name": "stdout",
     "output_type": "stream",
     "text": [
      "\"samsung electronics stock when:1m\" - Google News\n"
     ]
    }
   ],
   "source": [
    "from pygooglenews import GoogleNews\n",
    "gn = GoogleNews(lang = 'en', country = 'US')\n",
    "\n",
    "s = gn.search('samsung electronics stock', when = '1m')\n",
    "\n",
    "print(s['feed'].title)"
   ]
  },
  {
   "cell_type": "code",
   "execution_count": 20,
   "metadata": {
    "colab": {
     "base_uri": "https://localhost:8080/"
    },
    "id": "kBGf4u7AZyvC",
    "outputId": "6d0d99cc-770d-4f6c-be28-f98406047d52"
   },
   "outputs": [
    {
     "data": {
      "text/plain": [
       "['https://www.marketscreener.com/quote/stock/SAMSUNG-ELECTRONICS-CO--6494906/news/Samsung-Electronics-Expands-5G-Portfolio-in-India-with-Galaxy-A52s-5G-Makes-Powerful-Innovations-36311657/',\n",
       " 'https://www.cmcmarkets.com/en-sg/news-and-analysis/china-retail-sales-slow-sharply-uk-inflation-set-to-surge-in-august',\n",
       " 'https://en.yna.co.kr/view/AEN20210826009400320',\n",
       " 'https://www.investing.com/news/stock-market-news/samsung-electronics-secondquarter-profit-likely-up-38-on-strong-chip-prices-2550139',\n",
       " 'https://www.theedgemarkets.com/article/dumping-samsung-turns-korea-markets-asias-worst-performers',\n",
       " 'https://seekingalpha.com/article/4441077-xiaomi-is-outfoxing-apple-and-samsung',\n",
       " 'https://seekingalpha.com/article/4434044-taiwan-semiconductor-technology-samsung-intel-where-stock-be-in-2025',\n",
       " 'https://www.investing.com/news/stock-market-news/samsung-to-invest-206-billion-over-next-three-years-2597653',\n",
       " 'https://www.investing.com/news/stock-market-news/samsung-bets-on-europe-5g-orders-to-grow-network-equipment-business-2525906',\n",
       " 'https://seekingalpha.com/article/4445314-micron-technology-stock-buy-sell',\n",
       " 'https://www.investing.com/news/stock-market-news/samsung-leader-jay-y-lees-legal-troubles-2589126',\n",
       " 'https://seekingalpha.com/article/4441532-micron-technology-stock-5-years',\n",
       " 'https://www.ft.com/content/f8251e5f-10a7-4f7a-9047-b438e4d7f83a',\n",
       " 'https://seekingalpha.com/article/4437790-micron-strong-financial-performance-but-euv-looms-large-mu',\n",
       " 'https://www.investing.com/news/stock-market-news/big-strategic-decisions-await-samsungs-lee-as-momentum-builds-for-his-parole-2578489',\n",
       " 'https://capital.com/korea-s-kospi-near-record-high-australia-flat-ahead-of-rba-meet',\n",
       " 'https://seekingalpha.com/article/4451547-micron-stock-bounce-back-downward-trend',\n",
       " 'https://seekingalpha.com/article/4424007-asml-stock-in-sweet-spot',\n",
       " 'https://www.investing.com/news/economy/western-digital-in-talks-to-merge-with-japans-kioxia--source-2599942',\n",
       " 'https://www.telegraph.co.uk/investing/shares/questor-fund-manager-gave-us-250pc-gain-2020-undervalued-tech/',\n",
       " 'https://seekingalpha.com/article/4445420-micron-is-headed-for-100-and-above',\n",
       " 'https://seekingalpha.com/article/4418910-boxlight-corporation-strong-q1-guidance-bodes-well',\n",
       " 'https://seekingalpha.com/article/4451160-intel-stock-3-big-advantages-over-nvidia-amd',\n",
       " 'https://seekingalpha.com/article/4437502-marvell-its-not-too-late',\n",
       " 'https://www.economist.com/the-economist-explains/2021/02/25/why-is-there-a-shortage-of-semiconductors',\n",
       " 'https://seekingalpha.com/article/4433280-qualcomm-headed-for-a-secular-downturn',\n",
       " 'https://seekingalpha.com/article/4439379-taiwan-semiconductor-tsm-wait-for-next-retracement',\n",
       " 'https://seekingalpha.com/article/4421881-boxlight-corporation-buy-impressive-q1-sales-performance',\n",
       " 'https://seekingalpha.com/article/4447125-nanoxplore-stock-analysis-a-graphene-unicorn-in-the-making-nnxpf',\n",
       " 'https://seekingalpha.com/article/4439775-micron-technology-research-roundup',\n",
       " 'https://seekingalpha.com/article/4439162-applied-materials-stock-buy-sell',\n",
       " 'https://seekingalpha.com/article/4418329-should-you-buy-taiwan-semiconductor-stock',\n",
       " 'https://seekingalpha.com/article/4411382-is-taiwan-semiconductor-stock-buy-despite-climb',\n",
       " 'https://seekingalpha.com/article/4450045-asml-stock-growth-outlook-is-set-to-surprise-to-the-upside-significantly',\n",
       " 'https://seekingalpha.com/article/4449857-micron-technology-winter-may-be-coming-but-not-this-year-nor-the-next',\n",
       " 'https://www.theedgemarkets.com/article/samsung-leader-jay-y-lee-qualifies-parole-%E2%80%94-justice-ministry',\n",
       " 'https://seekingalpha.com/article/4415213-taiwan-semiconductor-stock-high-ground-versus-low-ground',\n",
       " 'https://seekingalpha.com/article/4434735-intel-stock-intc-expensive-and-uncertain-turnaround-plan',\n",
       " 'https://seekingalpha.com/article/4438907-intels-idm-foundry-business-model-puts-x86-franchise-at-peril',\n",
       " 'https://seekingalpha.com/article/4446026-himax-a-buy-but-better-opportunities',\n",
       " 'https://seekingalpha.com/article/4431467-micron-investors-have-short-memories-on-memory-capex',\n",
       " 'https://www.telegraph.co.uk/technology/2021/04/07/retail-investors-start-trading-deliveroo-shares-live-updates/',\n",
       " 'https://seekingalpha.com/article/4450977-micron-technology-strong-memory-drivers-through-2022',\n",
       " 'https://seekingalpha.com/article/4433177-micron-a-strong-chip-shortage-play',\n",
       " 'https://seekingalpha.com/article/4417680-micron-technology-competitive-nand-analysis-and-implications-of-kioxia-acquisition',\n",
       " 'https://seekingalpha.com/article/4430824-sk-telecom-q12021-earnings-multiple-tailwinds',\n",
       " 'https://www.ft.com/content/bdf4a7da-bcb9-4c20-8864-ae3f53d525bb',\n",
       " 'https://www.ft.com/content/b6a80442-a566-43ca-b23d-7793d417eddb',\n",
       " 'https://seekingalpha.com/article/4436542-unity-fairly-valued-but-buy-rating-still-justified',\n",
       " 'https://www.ft.com/content/d17b0eef-6a9b-4282-815e-4370f3a1a368',\n",
       " 'https://seekingalpha.com/article/4357713-micron-technology-is-samsung-electronics-competitor-ally',\n",
       " 'https://capital.com/hong-kong-market-leads-gains-aussie-shares-scale-new-record-high',\n",
       " 'https://www.techradar.com/news/samsung-jet-bot-90-ai-robot-vacuum',\n",
       " 'https://seekingalpha.com/article/4448662-fast-growing-100-billion-robotics-industry-is-a-catalyst-for-xiaomi',\n",
       " 'https://seekingalpha.com/article/4449435-making-sense-of-the-possible-merger-between-exact-sciences-and-invitae',\n",
       " 'https://seekingalpha.com/article/4437123-texas-instruments-high-cash-flow-chip-stock-amid-semiconductor-super-cycle',\n",
       " 'https://seekingalpha.com/article/4403320-sonos-still-sound-investment',\n",
       " 'https://seekingalpha.com/article/4384137-micron-competitive-dram-underperforming-nand-comparison-samsung',\n",
       " 'https://seekingalpha.com/article/4438212-amd-vs-micron-technology-stock-better-buy',\n",
       " 'https://seekingalpha.com/article/4434395-taiwan-semiconductor-manufacturing-company-remains-overvalued',\n",
       " 'https://seekingalpha.com/article/4417649-apple-stock-not-buying-opportunity',\n",
       " 'https://www.teslarati.com/tesla-cybertruck-samsung-cameras-massive-400m-deal/',\n",
       " 'https://seekingalpha.com/article/4447460-traders-and-analysts-disagree-on-western-digital',\n",
       " 'https://seekingalpha.com/article/4416098-skyworks-stock-5g-backed-growth-attractive-valuation',\n",
       " 'https://seekingalpha.com/article/4422983-apple-stock-iphone-supercycle-rolls-on',\n",
       " 'https://seekingalpha.com/article/4434769-dram-shortage-could-push-micron-stock-mu-to-120',\n",
       " 'https://seekingalpha.com/article/4435628-asml-its-time-to-take-some-profits',\n",
       " 'https://seekingalpha.com/article/4433803-texas-instruments-recovering-industries-esg-boost-stock-price',\n",
       " 'https://www.ft.com/content/61221646-1b61-43ed-80ff-e94028a18f3f',\n",
       " 'https://seekingalpha.com/article/4417691-soxx-and-soxl-change-in-chip-ecosystem',\n",
       " 'https://electrek.co/2021/05/03/how-tesla-pivoted-avoid-global-chip-shortage/',\n",
       " 'https://seekingalpha.com/article/4439499-vxus-etf-a-dollar-hedge-not-a-value-investment',\n",
       " 'https://www.investorschronicle.co.uk/news/2021/07/15/how-the-chinese-tech-crackdown-could-hurt-em-investors/',\n",
       " 'https://www.ft.com/content/1080deec-1314-4e8e-accb-eceeeb940ddb',\n",
       " 'https://seekingalpha.com/article/4444071-texas-instruments-still-beyond-criticism-on-quality-but-not-so-bulletproof-on-valuation-and-expectations',\n",
       " 'https://seekingalpha.com/symbol/RIGZ',\n",
       " 'https://seekingalpha.com/article/4427534-micron-stock-mu-getting-greedy-now',\n",
       " 'https://seekingalpha.com/article/4415510-asml-fantastic-company-for-long-term-investors',\n",
       " 'https://www.ft.com/content/1a4645d0-31b2-11ea-9703-eea0cae3f0de',\n",
       " 'https://seekingalpha.com/article/4403196-netlist-current-prospects',\n",
       " 'https://seekingalpha.com/article/4438681-fubotv-buy-the-dip-60-percent-plus-upside-sports-betting-update-and-other-upcoming-catalysts',\n",
       " 'https://seekingalpha.com/article/4421376-romeo-power-stock-rmo-attractive-entry-point-for-choice-pick-in-ev-battery-space',\n",
       " 'https://www.investing.com/news/stock-market-news/jessica-albas-honest-company-gains-after-raft-of-upgrades-2520285',\n",
       " 'https://seekingalpha.com/article/4439015-qurate-minimal-capex-retailer-underpriced-by-373-percent',\n",
       " 'https://seekingalpha.com/article/4428234-cirrus-logics-4th-quarter-report',\n",
       " 'https://seekingalpha.com/article/4426877-klac-stock-great-way-to-get-exposure-to-the-growing-semiconductor-industry',\n",
       " 'https://seekingalpha.com/article/4419545-why-i-turned-bearish-on-asml',\n",
       " 'https://seekingalpha.com/article/4419081-kopin-stock-capable-of-sustaining-profitability-in-2021',\n",
       " 'https://seekingalpha.com/article/4406527-intel-turnaround-story-represents-great-value-in-current-market',\n",
       " 'https://seekingalpha.com/article/4426482-micron-investors-not-impressed-by-applied-materials-memory-master-class-gala',\n",
       " 'https://www.ft.com/content/b8c31a4c-b2ac-4694-a601-4adf698d26fc',\n",
       " 'https://www.investing.com/news/stock-market-news/4-steel-stocks-that-are-better-investments-than-clevelandcliffs-2600877',\n",
       " 'https://seekingalpha.com/article/4423624-sony-stock-trudges-on-in-excellence-remains-forsaken-by-market',\n",
       " 'https://seekingalpha.com/article/4398186-why-united-microelectronics-share-price-shot-up',\n",
       " 'https://seekingalpha.com/article/4430110-lam-research-a-victim-of-judicious-memory-spending-in-2021',\n",
       " 'https://seekingalpha.com/article/4418190-geo-group-huge-upside-potential-for-this-reit',\n",
       " 'https://seekingalpha.com/article/4398551-apple-and-taiwan-semiconductor-2-companies-moving-technologically-in-tandem',\n",
       " 'https://seekingalpha.com/article/4441337-intel-rising-from-the-ashes-10-consecutive-beats',\n",
       " 'https://www.siliconrepublic.com/companies/samsung-profits-weathered-2020-weak-start-2021',\n",
       " 'https://seekingalpha.com/article/4402567-amd-vs-intel-best-buy-special-report']"
      ]
     },
     "execution_count": 20,
     "metadata": {},
     "output_type": "execute_result"
    }
   ],
   "source": [
    "lists = []\n",
    "for en in entry:\n",
    "    lists.append(en['link'])\n",
    "lists"
   ]
  },
  {
   "cell_type": "code",
   "execution_count": 23,
   "metadata": {
    "id": "vulKIKAfaAxD"
   },
   "outputs": [],
   "source": [
    "with open('result.txt', 'w') as f:\n",
    "    for l in lists:\n",
    "        f.write(f'{l}\\n')"
   ]
  },
  {
   "cell_type": "code",
   "execution_count": 25,
   "metadata": {
    "colab": {
     "base_uri": "https://localhost:8080/"
    },
    "id": "PsrKwru_aVg-",
    "outputId": "d140713f-75a2-4658-b26b-62958de2bc44"
   },
   "outputs": [
    {
     "data": {
      "text/plain": [
       "['https://www.marketscreener.com/quote/stock/SAMSUNG-ELECTRONICS-CO--6494906/news/Samsung-Electronics-Expands-5G-Portfolio-in-India-with-Galaxy-A52s-5G-Makes-Powerful-Innovations-36311657/\\n',\n",
       " 'https://www.cmcmarkets.com/en-sg/news-and-analysis/china-retail-sales-slow-sharply-uk-inflation-set-to-surge-in-august\\n',\n",
       " 'https://en.yna.co.kr/view/AEN20210826009400320\\n',\n",
       " 'https://www.investing.com/news/stock-market-news/samsung-electronics-secondquarter-profit-likely-up-38-on-strong-chip-prices-2550139\\n',\n",
       " 'https://www.theedgemarkets.com/article/dumping-samsung-turns-korea-markets-asias-worst-performers\\n',\n",
       " 'https://seekingalpha.com/article/4441077-xiaomi-is-outfoxing-apple-and-samsung\\n',\n",
       " 'https://seekingalpha.com/article/4434044-taiwan-semiconductor-technology-samsung-intel-where-stock-be-in-2025\\n',\n",
       " 'https://www.investing.com/news/stock-market-news/samsung-to-invest-206-billion-over-next-three-years-2597653\\n',\n",
       " 'https://www.investing.com/news/stock-market-news/samsung-bets-on-europe-5g-orders-to-grow-network-equipment-business-2525906\\n',\n",
       " 'https://seekingalpha.com/article/4445314-micron-technology-stock-buy-sell\\n',\n",
       " 'https://www.investing.com/news/stock-market-news/samsung-leader-jay-y-lees-legal-troubles-2589126\\n',\n",
       " 'https://seekingalpha.com/article/4441532-micron-technology-stock-5-years\\n',\n",
       " 'https://www.ft.com/content/f8251e5f-10a7-4f7a-9047-b438e4d7f83a\\n',\n",
       " 'https://seekingalpha.com/article/4437790-micron-strong-financial-performance-but-euv-looms-large-mu\\n',\n",
       " 'https://www.investing.com/news/stock-market-news/big-strategic-decisions-await-samsungs-lee-as-momentum-builds-for-his-parole-2578489\\n',\n",
       " 'https://capital.com/korea-s-kospi-near-record-high-australia-flat-ahead-of-rba-meet\\n',\n",
       " 'https://seekingalpha.com/article/4451547-micron-stock-bounce-back-downward-trend\\n',\n",
       " 'https://seekingalpha.com/article/4424007-asml-stock-in-sweet-spot\\n',\n",
       " 'https://www.investing.com/news/economy/western-digital-in-talks-to-merge-with-japans-kioxia--source-2599942\\n',\n",
       " 'https://www.telegraph.co.uk/investing/shares/questor-fund-manager-gave-us-250pc-gain-2020-undervalued-tech/\\n',\n",
       " 'https://seekingalpha.com/article/4445420-micron-is-headed-for-100-and-above\\n',\n",
       " 'https://seekingalpha.com/article/4418910-boxlight-corporation-strong-q1-guidance-bodes-well\\n',\n",
       " 'https://seekingalpha.com/article/4451160-intel-stock-3-big-advantages-over-nvidia-amd\\n',\n",
       " 'https://seekingalpha.com/article/4437502-marvell-its-not-too-late\\n',\n",
       " 'https://www.economist.com/the-economist-explains/2021/02/25/why-is-there-a-shortage-of-semiconductors\\n',\n",
       " 'https://seekingalpha.com/article/4433280-qualcomm-headed-for-a-secular-downturn\\n',\n",
       " 'https://seekingalpha.com/article/4439379-taiwan-semiconductor-tsm-wait-for-next-retracement\\n',\n",
       " 'https://seekingalpha.com/article/4421881-boxlight-corporation-buy-impressive-q1-sales-performance\\n',\n",
       " 'https://seekingalpha.com/article/4447125-nanoxplore-stock-analysis-a-graphene-unicorn-in-the-making-nnxpf\\n',\n",
       " 'https://seekingalpha.com/article/4439775-micron-technology-research-roundup\\n',\n",
       " 'https://seekingalpha.com/article/4439162-applied-materials-stock-buy-sell\\n',\n",
       " 'https://seekingalpha.com/article/4418329-should-you-buy-taiwan-semiconductor-stock\\n',\n",
       " 'https://seekingalpha.com/article/4411382-is-taiwan-semiconductor-stock-buy-despite-climb\\n',\n",
       " 'https://seekingalpha.com/article/4450045-asml-stock-growth-outlook-is-set-to-surprise-to-the-upside-significantly\\n',\n",
       " 'https://seekingalpha.com/article/4449857-micron-technology-winter-may-be-coming-but-not-this-year-nor-the-next\\n',\n",
       " 'https://www.theedgemarkets.com/article/samsung-leader-jay-y-lee-qualifies-parole-%E2%80%94-justice-ministry\\n',\n",
       " 'https://seekingalpha.com/article/4415213-taiwan-semiconductor-stock-high-ground-versus-low-ground\\n',\n",
       " 'https://seekingalpha.com/article/4434735-intel-stock-intc-expensive-and-uncertain-turnaround-plan\\n',\n",
       " 'https://seekingalpha.com/article/4438907-intels-idm-foundry-business-model-puts-x86-franchise-at-peril\\n',\n",
       " 'https://seekingalpha.com/article/4446026-himax-a-buy-but-better-opportunities\\n',\n",
       " 'https://seekingalpha.com/article/4431467-micron-investors-have-short-memories-on-memory-capex\\n',\n",
       " 'https://www.telegraph.co.uk/technology/2021/04/07/retail-investors-start-trading-deliveroo-shares-live-updates/\\n',\n",
       " 'https://seekingalpha.com/article/4450977-micron-technology-strong-memory-drivers-through-2022\\n',\n",
       " 'https://seekingalpha.com/article/4433177-micron-a-strong-chip-shortage-play\\n',\n",
       " 'https://seekingalpha.com/article/4417680-micron-technology-competitive-nand-analysis-and-implications-of-kioxia-acquisition\\n',\n",
       " 'https://seekingalpha.com/article/4430824-sk-telecom-q12021-earnings-multiple-tailwinds\\n',\n",
       " 'https://www.ft.com/content/bdf4a7da-bcb9-4c20-8864-ae3f53d525bb\\n',\n",
       " 'https://www.ft.com/content/b6a80442-a566-43ca-b23d-7793d417eddb\\n',\n",
       " 'https://seekingalpha.com/article/4436542-unity-fairly-valued-but-buy-rating-still-justified\\n',\n",
       " 'https://www.ft.com/content/d17b0eef-6a9b-4282-815e-4370f3a1a368\\n',\n",
       " 'https://seekingalpha.com/article/4357713-micron-technology-is-samsung-electronics-competitor-ally\\n',\n",
       " 'https://capital.com/hong-kong-market-leads-gains-aussie-shares-scale-new-record-high\\n',\n",
       " 'https://www.techradar.com/news/samsung-jet-bot-90-ai-robot-vacuum\\n',\n",
       " 'https://seekingalpha.com/article/4448662-fast-growing-100-billion-robotics-industry-is-a-catalyst-for-xiaomi\\n',\n",
       " 'https://seekingalpha.com/article/4449435-making-sense-of-the-possible-merger-between-exact-sciences-and-invitae\\n',\n",
       " 'https://seekingalpha.com/article/4437123-texas-instruments-high-cash-flow-chip-stock-amid-semiconductor-super-cycle\\n',\n",
       " 'https://seekingalpha.com/article/4403320-sonos-still-sound-investment\\n',\n",
       " 'https://seekingalpha.com/article/4384137-micron-competitive-dram-underperforming-nand-comparison-samsung\\n',\n",
       " 'https://seekingalpha.com/article/4438212-amd-vs-micron-technology-stock-better-buy\\n',\n",
       " 'https://seekingalpha.com/article/4434395-taiwan-semiconductor-manufacturing-company-remains-overvalued\\n',\n",
       " 'https://seekingalpha.com/article/4417649-apple-stock-not-buying-opportunity\\n',\n",
       " 'https://www.teslarati.com/tesla-cybertruck-samsung-cameras-massive-400m-deal/\\n',\n",
       " 'https://seekingalpha.com/article/4447460-traders-and-analysts-disagree-on-western-digital\\n',\n",
       " 'https://seekingalpha.com/article/4416098-skyworks-stock-5g-backed-growth-attractive-valuation\\n',\n",
       " 'https://seekingalpha.com/article/4422983-apple-stock-iphone-supercycle-rolls-on\\n',\n",
       " 'https://seekingalpha.com/article/4434769-dram-shortage-could-push-micron-stock-mu-to-120\\n',\n",
       " 'https://seekingalpha.com/article/4435628-asml-its-time-to-take-some-profits\\n',\n",
       " 'https://seekingalpha.com/article/4433803-texas-instruments-recovering-industries-esg-boost-stock-price\\n',\n",
       " 'https://www.ft.com/content/61221646-1b61-43ed-80ff-e94028a18f3f\\n',\n",
       " 'https://seekingalpha.com/article/4417691-soxx-and-soxl-change-in-chip-ecosystem\\n',\n",
       " 'https://electrek.co/2021/05/03/how-tesla-pivoted-avoid-global-chip-shortage/\\n',\n",
       " 'https://seekingalpha.com/article/4439499-vxus-etf-a-dollar-hedge-not-a-value-investment\\n',\n",
       " 'https://www.investorschronicle.co.uk/news/2021/07/15/how-the-chinese-tech-crackdown-could-hurt-em-investors/\\n',\n",
       " 'https://www.ft.com/content/1080deec-1314-4e8e-accb-eceeeb940ddb\\n',\n",
       " 'https://seekingalpha.com/article/4444071-texas-instruments-still-beyond-criticism-on-quality-but-not-so-bulletproof-on-valuation-and-expectations\\n',\n",
       " 'https://seekingalpha.com/symbol/RIGZ\\n',\n",
       " 'https://seekingalpha.com/article/4427534-micron-stock-mu-getting-greedy-now\\n',\n",
       " 'https://seekingalpha.com/article/4415510-asml-fantastic-company-for-long-term-investors\\n',\n",
       " 'https://www.ft.com/content/1a4645d0-31b2-11ea-9703-eea0cae3f0de\\n',\n",
       " 'https://seekingalpha.com/article/4403196-netlist-current-prospects\\n',\n",
       " 'https://seekingalpha.com/article/4438681-fubotv-buy-the-dip-60-percent-plus-upside-sports-betting-update-and-other-upcoming-catalysts\\n',\n",
       " 'https://seekingalpha.com/article/4421376-romeo-power-stock-rmo-attractive-entry-point-for-choice-pick-in-ev-battery-space\\n',\n",
       " 'https://www.investing.com/news/stock-market-news/jessica-albas-honest-company-gains-after-raft-of-upgrades-2520285\\n',\n",
       " 'https://seekingalpha.com/article/4439015-qurate-minimal-capex-retailer-underpriced-by-373-percent\\n',\n",
       " 'https://seekingalpha.com/article/4428234-cirrus-logics-4th-quarter-report\\n',\n",
       " 'https://seekingalpha.com/article/4426877-klac-stock-great-way-to-get-exposure-to-the-growing-semiconductor-industry\\n',\n",
       " 'https://seekingalpha.com/article/4419545-why-i-turned-bearish-on-asml\\n',\n",
       " 'https://seekingalpha.com/article/4419081-kopin-stock-capable-of-sustaining-profitability-in-2021\\n',\n",
       " 'https://seekingalpha.com/article/4406527-intel-turnaround-story-represents-great-value-in-current-market\\n',\n",
       " 'https://seekingalpha.com/article/4426482-micron-investors-not-impressed-by-applied-materials-memory-master-class-gala\\n',\n",
       " 'https://www.ft.com/content/b8c31a4c-b2ac-4694-a601-4adf698d26fc\\n',\n",
       " 'https://www.investing.com/news/stock-market-news/4-steel-stocks-that-are-better-investments-than-clevelandcliffs-2600877\\n',\n",
       " 'https://seekingalpha.com/article/4423624-sony-stock-trudges-on-in-excellence-remains-forsaken-by-market\\n',\n",
       " 'https://seekingalpha.com/article/4398186-why-united-microelectronics-share-price-shot-up\\n',\n",
       " 'https://seekingalpha.com/article/4430110-lam-research-a-victim-of-judicious-memory-spending-in-2021\\n',\n",
       " 'https://seekingalpha.com/article/4418190-geo-group-huge-upside-potential-for-this-reit\\n',\n",
       " 'https://seekingalpha.com/article/4398551-apple-and-taiwan-semiconductor-2-companies-moving-technologically-in-tandem\\n',\n",
       " 'https://seekingalpha.com/article/4441337-intel-rising-from-the-ashes-10-consecutive-beats\\n',\n",
       " 'https://www.siliconrepublic.com/companies/samsung-profits-weathered-2020-weak-start-2021\\n',\n",
       " 'https://seekingalpha.com/article/4402567-amd-vs-intel-best-buy-special-report\\n']"
      ]
     },
     "execution_count": 25,
     "metadata": {},
     "output_type": "execute_result"
    }
   ],
   "source": [
    "# 삼성전자 주식 관련 기사 링크 모음\n",
    "text_list = []\n",
    "with open('result.txt', 'r') as f:\n",
    "    while True:\n",
    "        line = f.readline()\n",
    "        if not line: break\n",
    "\n",
    "        text_list.append(line)\n",
    "\n",
    "text_list"
   ]
  }
 ],
 "metadata": {
  "colab": {
   "name": "Untitled17.ipynb",
   "provenance": []
  },
  "kernelspec": {
   "display_name": "stock",
   "language": "python",
   "name": "stock"
  },
  "language_info": {
   "codemirror_mode": {
    "name": "ipython",
    "version": 3
   },
   "file_extension": ".py",
   "mimetype": "text/x-python",
   "name": "python",
   "nbconvert_exporter": "python",
   "pygments_lexer": "ipython3",
   "version": "3.9.6"
  }
 },
 "nbformat": 4,
 "nbformat_minor": 1
}
