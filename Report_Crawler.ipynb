{
 "cells": [
  {
   "cell_type": "markdown",
   "metadata": {},
   "source": [
    "## 한경컨센서스 증권사 리포트 크롤러\n",
    "selenium을 활용해 기업분석 리포트를 크롤링하는 프로그램입니다. "
   ]
  },
  {
   "cell_type": "code",
   "execution_count": null,
   "metadata": {},
   "outputs": [],
   "source": [
    "from selenium import webdriver\n",
    "from selenium.webdriver.common.keys import Keys"
   ]
  },
  {
   "cell_type": "code",
   "execution_count": null,
   "metadata": {},
   "outputs": [],
   "source": [
    "import time"
   ]
  },
  {
   "cell_type": "code",
   "execution_count": null,
   "metadata": {},
   "outputs": [],
   "source": [
    "driver = webdriver.Chrome()"
   ]
  },
  {
   "cell_type": "code",
   "execution_count": null,
   "metadata": {},
   "outputs": [],
   "source": [
    "driver.get(\"http://consensus.hankyung.com/apps.analysis/analysis.list?skinType=business\")"
   ]
  },
  {
   "cell_type": "code",
   "execution_count": null,
   "metadata": {},
   "outputs": [],
   "source": [
    "driver.find_element_by_name(\"sdate\").click()"
   ]
  },
  {
   "cell_type": "code",
   "execution_count": null,
   "metadata": {},
   "outputs": [],
   "source": [
    "#기간 설정\n",
    "driver.find_element_by_link_text('1년').click()"
   ]
  },
  {
   "cell_type": "code",
   "execution_count": null,
   "metadata": {},
   "outputs": [],
   "source": [
    "driver.find_element_by_css_selector('#f_search > div > div.hd_top > div.btn_r > a:nth-child(1) > img').click()"
   ]
  },
  {
   "cell_type": "code",
   "execution_count": null,
   "metadata": {},
   "outputs": [],
   "source": [
    "driver.find_element_by_xpath(\"/html/body/div[1]/div[2]/div[3]/div[3]/a[2]\").click()"
   ]
  },
  {
   "cell_type": "markdown",
   "metadata": {},
   "source": [
    "### 직접 설정 변경\n",
    "크롬 '추가 콘텐츠 설정'에서 pdf클릭 시 파일이 바로 다운되게 설정을 변경합니다. \n"
   ]
  },
  {
   "cell_type": "code",
   "execution_count": null,
   "metadata": {},
   "outputs": [],
   "source": [
    "# 크롤링할 각 페이지의 url에 붙을 url_basis\n",
    "url_basis = driver.current_url[0:-1]"
   ]
  },
  {
   "cell_type": "code",
   "execution_count": null,
   "metadata": {},
   "outputs": [],
   "source": [
    "n = 0 # n은 페이지 번호\n",
    "stock_name_list = [] #종목명만 모을 리스트"
   ]
  },
  {
   "cell_type": "code",
   "execution_count": null,
   "metadata": {},
   "outputs": [],
   "source": [
    "while True :    \n",
    "    n = n + 1 \n",
    "    temp = n    \n",
    "    url = url_basis + str(temp)\n",
    "    driver.get(url)    \n",
    "    for i in range(20) :\n",
    "        input = \"#contents > div.table_style01 > table > tbody > tr:nth-child(%d)> td:nth-child(9) > div > a > img\" %(i+1)\n",
    "        # 클릭하여 pdf다운\n",
    "        driver.find_element_by_css_selector(input).click()\n",
    "        \n",
    "        # 종목명만(stock_name)따로 추출(pdf파일명이 random숫자이기 때문)\n",
    "        alt = driver.find_element_by_css_selector(input).get_attribute('alt')\n",
    "        temp1= alt.find(\"2\") + 8\n",
    "        temp2 = alt[temp1 : ]\n",
    "        stock_name = temp2[:-4]\n",
    "        stock_name_list.append(stock_name)        \n",
    "        \n",
    "        time.sleep(1)        \n",
    "    \n",
    "    print(\"%d번째 페이지 완료\"%n)    \n",
    "        \n",
    "            \n",
    "            "
   ]
  },
  {
   "cell_type": "code",
   "execution_count": null,
   "metadata": {},
   "outputs": [],
   "source": [
    "driver.close()"
   ]
  },
  {
   "cell_type": "code",
   "execution_count": null,
   "metadata": {},
   "outputs": [],
   "source": []
  }
 ],
 "metadata": {
  "jupytext": {
   "encoding": "# -*- coding: utf-8 -*-",
   "formats": "ipynb,py:light"
  },
  "kernelspec": {
   "display_name": "Python 3",
   "language": "python",
   "name": "python3"
  },
  "language_info": {
   "codemirror_mode": {
    "name": "ipython",
    "version": 3
   },
   "file_extension": ".py",
   "mimetype": "text/x-python",
   "name": "python",
   "nbconvert_exporter": "python",
   "pygments_lexer": "ipython3",
   "version": "3.8.5"
  }
 },
 "nbformat": 4,
 "nbformat_minor": 4
}
